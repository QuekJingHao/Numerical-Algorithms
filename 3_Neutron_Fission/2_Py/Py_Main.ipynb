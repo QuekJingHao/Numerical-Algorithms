{
 "cells": [
  {
   "cell_type": "markdown",
   "id": "32eea123-85e3-404b-9189-fdb3cb037aa1",
   "metadata": {},
   "source": [
    "# Numerical Algorithms\n",
    "\n",
    "## Neutron Diffusion in Fissioning Weapon\n",
    "\n",
    "\n",
    "### Introduction\n",
    "\n",
    "The Neutron Diffusion equation in a fissioning nuclear weapon, as introduced in _The Physics of the Manhattan Project_, is given by\n",
    "\n",
    "\n",
    "$$\n",
    "\\frac{\\partial N(\\vec r, t)}{\\partial t} = \\frac{\\nu_{neut}}{\\lambda_f}N(\\vec r, t) \\ + \\ \\frac{\\lambda_t \\nu_{neut}}{3}(\\nabla^2 N(\\vec r, t)),\n",
    "$$\n",
    "\n",
    "where $N(\\vec r, t)$ represents the neutron field $N$ at a position vector $\\vec r$ at time $t$."
   ]
  },
  {
   "cell_type": "code",
   "execution_count": null,
   "id": "27edf01e-67a7-4548-aa2f-0a88a4479337",
   "metadata": {},
   "outputs": [],
   "source": []
  },
  {
   "cell_type": "code",
   "execution_count": null,
   "id": "a7a552bf-3f0b-4635-9a86-b5668595ca95",
   "metadata": {},
   "outputs": [],
   "source": []
  },
  {
   "cell_type": "code",
   "execution_count": null,
   "id": "8cfe4451-2374-4962-83f1-f54c6e3d3d76",
   "metadata": {},
   "outputs": [],
   "source": []
  }
 ],
 "metadata": {
  "kernelspec": {
   "display_name": "Python 3 (ipykernel)",
   "language": "python",
   "name": "python3"
  },
  "language_info": {
   "codemirror_mode": {
    "name": "ipython",
    "version": 3
   },
   "file_extension": ".py",
   "mimetype": "text/x-python",
   "name": "python",
   "nbconvert_exporter": "python",
   "pygments_lexer": "ipython3",
   "version": "3.10.9"
  }
 },
 "nbformat": 4,
 "nbformat_minor": 5
}
