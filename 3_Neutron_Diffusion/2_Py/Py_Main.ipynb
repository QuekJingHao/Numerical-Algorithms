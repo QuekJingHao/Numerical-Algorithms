{
 "cells": [
  {
   "cell_type": "markdown",
   "id": "80c0c980-61d1-46a0-a47d-4078944593a5",
   "metadata": {},
   "source": [
    "# Numerical Algorithms\n",
    "\n",
    "## Solving the Neutron Diffusion Equation in a Fissioning Nuclear Weapon\n",
    "---\n",
    "\n",
    "**<u>_Objective:_</u>** In this project, we solve the neutron diffusion equation of a fissioning nuclear weapon numerically, using the Foward-Time Centered-Space (FTCS) scheme. We will solve for the neutron field in spherical coordinates."
   ]
  },
  {
   "cell_type": "markdown",
   "id": "9305f5a5",
   "metadata": {},
   "source": [
    "\n",
    "### Introduction\n",
    "\n",
    "The Neutron Diffusion equation in a fissioning nuclear weapon, as introduced in Eqution (2.18) in _The Physics of the Manhattan Project_, is given by\n",
    "\n",
    "\n",
    "$$\n",
    "\\frac{\\partial N(\\vec r, t)}{\\partial t} = \\frac{\\nu_{neut}}{\\lambda_f}N(\\vec r, t) \\ + \\ \\frac{\\lambda_t \\nu_{neut}}{3} \\left( \\nabla^2 N(\\vec r, t) \\right),\n",
    "$$\n",
    "\n",
    "where $N(\\vec r, t)$ represents the neutron field $N$ at a position vector $\\vec r$ at time $t$. The constants that appear in the equation are defined as:\n",
    "\n",
    "\n",
    "- $\\nu_{neut}$: Average neutron velocity\n",
    "- $\\lambda_{f}$: Fission mean free path\n",
    "- $\\nu$: Mean number of neutrons produced per fission event\n",
    "- $\\lambda_{t}$: Transport mean free path\n",
    "\n",
    "\n",
    "Some of these quantities are derived from:\n",
    "\n",
    "$$\n",
    "\\lambda_f = \\frac{1}{\\sigma_f n}\n",
    "$$\n",
    "\n",
    "$$\n",
    "\\lambda_t = \\frac{1}{\\sigma_t n}\n",
    "$$\n",
    "\n",
    "Where the mean free paths are expressed in terms of their cross-sections $\\sigma$. The transport cross section is in turn, the sum of the fission and elastic scattering cross sections: \n",
    "\n",
    "$$\n",
    "\\sigma_{t} = \\sigma_{f} + \\sigma_{el}\n",
    "$$\n",
    "\n",
    "Lastly, $n$ is a constant, the number density"
   ]
  },
  {
   "cell_type": "markdown",
   "id": "b85209f8-89d4-4f70-af6e-e7781e6878a0",
   "metadata": {},
   "source": [
    "## Diffusion Equation in Spherical Coordinates\n",
    "\n",
    "For a spherical bomb core, the laplacian $\\nabla^2$ should be expressed in terms of $r$ - if we assume that the diffusion is isotropic (independent of $\\phi$ and $\\theta$). Then the neutron field number density, which growths with respect to time, is $N(\\vec r, t)$ = $N(r, t)$. Then, we have the following:"
   ]
  },
  {
   "cell_type": "code",
   "execution_count": null,
   "id": "9c04beef",
   "metadata": {},
   "outputs": [],
   "source": []
  },
  {
   "cell_type": "code",
   "execution_count": null,
   "id": "99ee3c0f",
   "metadata": {},
   "outputs": [],
   "source": []
  },
  {
   "cell_type": "markdown",
   "id": "ac9cb5a2",
   "metadata": {},
   "source": [
    "## Discretization of Diffusion Equation\n",
    "\n",
    "We want to use the Forward-Time Centered-Space (FTCS) scheme by applying the finite difference methods on the equation above. We have ot "
   ]
  },
  {
   "cell_type": "code",
   "execution_count": null,
   "id": "098abf0d",
   "metadata": {},
   "outputs": [],
   "source": []
  },
  {
   "cell_type": "markdown",
   "id": "6093e906",
   "metadata": {},
   "source": []
  },
  {
   "cell_type": "code",
   "execution_count": null,
   "id": "27edf01e-67a7-4548-aa2f-0a88a4479337",
   "metadata": {},
   "outputs": [],
   "source": []
  }
 ],
 "metadata": {
  "kernelspec": {
   "display_name": "Python 3 (ipykernel)",
   "language": "python",
   "name": "python3"
  },
  "language_info": {
   "codemirror_mode": {
    "name": "ipython",
    "version": 3
   },
   "file_extension": ".py",
   "mimetype": "text/x-python",
   "name": "python",
   "nbconvert_exporter": "python",
   "pygments_lexer": "ipython3",
   "version": "3.10.9"
  }
 },
 "nbformat": 4,
 "nbformat_minor": 5
}
